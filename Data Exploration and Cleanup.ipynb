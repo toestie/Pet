{
 "cells": [
  {
   "cell_type": "code",
   "execution_count": 1,
   "metadata": {},
   "outputs": [],
   "source": [
    "#import dependencies\n",
    "import pandas as pd\n",
    "import numpy as np"
   ]
  },
  {
   "cell_type": "code",
   "execution_count": 2,
   "metadata": {},
   "outputs": [],
   "source": [
    "hcsvpath = \"Resources/Austin_Animal_Center_Intakes.csv\"\n",
    "mcsvpath = \"Resources/Austin_Animal_Center_Outcomes.csv\"\n",
    "pcsvpath = \"Resources/Austin-Animal-Center-Statistics-oct-1-2013-to-dec-7-2017-QueryResult.csv\"\n",
    "\n",
    "#import intakes data (H.D.)\n",
    "hintake_df = pd.read_csv(hcsvpath, encoding = \"ISO-8859-1\")\n",
    "\n",
    "#import data (M.Z.)\n",
    "moutcome_df = pd.read_csv(mcsvpath, encoding='latin-1')\n",
    "\n",
    "#import data (P.H.)\n",
    "poutcome_df = pd.read_csv(pcsvpath)"
   ]
  },
  {
   "cell_type": "code",
   "execution_count": 3,
   "metadata": {},
   "outputs": [],
   "source": [
    "#count intakes by breed\n",
    "breedin_count = pd.DataFrame(hintake_df[\"Breed\"].value_counts()).reset_index()\n",
    "breedin_count = breedin_count.rename(columns = {\"index\":\"Breed\",\"Breed\":\"Count\"})\n",
    "\n",
    "#count intakes by color\n",
    "colorin_count = pd.DataFrame(hintake_df[\"Color\"].value_counts()).reset_index()\n",
    "colorin_count = colorin_count.rename(columns = {\"index\":\"Color\",\"Color\":\"Count\"})\n",
    "\n",
    "#count intakes by sex\n",
    "sexin_count = pd.DataFrame(hintake_df[\"Sex upon Intake\"].value_counts()).reset_index()\n",
    "sexin_count = sexin_count.rename(columns = {\"index\":\"Sex\",\"Sex upon Intake\":\"Count\"})\n",
    "\n",
    "#count intakes by name\n",
    "namein_count = pd.DataFrame(hintake_df['Name'].value_counts()).reset_index()\n",
    "namein_count = namein_count.rename(columns = {\"index\":\"Name\",\"Name\":\"Count\"})"
   ]
  },
  {
   "cell_type": "code",
   "execution_count": 4,
   "metadata": {},
   "outputs": [],
   "source": [
    "#count outcomes by outcome type\n",
    "outcome_count = pd.DataFrame(moutcome_df[\"Outcome Type\"].value_counts()).reset_index()\n",
    "outcome_count = outcome_count.rename(columns = {\"index\":\"Outcome\",\"Outcome Type\":\"Count\"})\n",
    "\n",
    "#count outcomes by animal type\n",
    "typeout_count = pd.DataFrame(moutcome_df[\"Animal Type\"].value_counts()).reset_index()\n",
    "typeout_count = typeout_count.rename(columns = {\"index\":\"Type\",\"Animal Type\":\"Count\"})\n",
    "\n",
    "#count outcomes by breed\n",
    "breedout_count = pd.DataFrame(moutcome_df[\"Breed\"].value_counts()).reset_index()\n",
    "breedout_count = breedout_count.rename(columns = {\"index\":\"Breed\",\"Breed\":\"Count\"})\n",
    "\n",
    "#count adoptions by breed\n",
    "adopt_df = moutcome_df.loc[moutcome_df['Outcome Type'] == \"Adoption\"]\n",
    "adoptout_count = pd.DataFrame(adopt_df[\"Breed\"].value_counts()).reset_index()\n",
    "adoptout_count = adoptout_count.rename(columns = {\"index\":\"Breed\",\"Breed\":\"Count\"})\n",
    "\n",
    "#count adoptions by age\n",
    "ageadoptout_count = pd.DataFrame(adopt_df[\"Age upon Outcome\"].value_counts()).reset_index()\n",
    "ageadoptout_count = ageadoptout_count.rename(columns = {\"index\":\"Age upon Outcome\",\"Age upon Outcome\":\"Count\"})"
   ]
  },
  {
   "cell_type": "code",
   "execution_count": 5,
   "metadata": {},
   "outputs": [
    {
     "name": "stderr",
     "output_type": "stream",
     "text": [
      "/anaconda3/lib/python3.7/site-packages/ipykernel_launcher.py:16: UserWarning: Boolean Series key will be reindexed to match DataFrame index.\n",
      "  app.launch_new_instance()\n",
      "/anaconda3/lib/python3.7/site-packages/ipykernel_launcher.py:20: UserWarning: Boolean Series key will be reindexed to match DataFrame index.\n",
      "/anaconda3/lib/python3.7/site-packages/ipykernel_launcher.py:24: UserWarning: Boolean Series key will be reindexed to match DataFrame index.\n",
      "/anaconda3/lib/python3.7/site-packages/ipykernel_launcher.py:31: UserWarning: Boolean Series key will be reindexed to match DataFrame index.\n",
      "/anaconda3/lib/python3.7/site-packages/ipykernel_launcher.py:35: UserWarning: Boolean Series key will be reindexed to match DataFrame index.\n",
      "/anaconda3/lib/python3.7/site-packages/ipykernel_launcher.py:39: UserWarning: Boolean Series key will be reindexed to match DataFrame index.\n"
     ]
    }
   ],
   "source": [
    "#count outcomes by those returned to owner (will be counted by histogram)\n",
    "returnout_count = poutcome_df[poutcome_df.outcome_type=='Return to Owner'].groupby('animal_id').count()\n",
    "\n",
    "#got animals that were returned many times\n",
    "#returnout_count[returnout_count.name>4]\n",
    "lilbit = poutcome_df[poutcome_df.animal_id=='A721033']\n",
    "butch = poutcome_df[poutcome_df.animal_id=='A706536']\n",
    "\n",
    "#average age of outcomes by animal type (and change into # of years from days)\n",
    "typeout_average = poutcome_df.groupby('animal_type').mean()\n",
    "typeout_average = typeout_average/365\n",
    "\n",
    "#count adoptions by time (for total, dogs, cats, and other)\n",
    "adoption = poutcome_df[poutcome_df.outcome_type==\"Adoption\"].groupby('monthyear').count()\n",
    "\n",
    "adoptionDog = poutcome_df[poutcome_df.outcome_type==\"Adoption\"][poutcome_df.animal_type==\"Dog\"].groupby('monthyear').count()\n",
    "adoptionDog = pd.DataFrame(adoptionDog[\"animal_id\"])\n",
    "adoptionDog = adoptionDog.rename(columns = {\"monthyear\":\"Time\",\"animal_id\":\"Count\"})\n",
    "\n",
    "adoptionCat = poutcome_df[poutcome_df.outcome_type==\"Adoption\"][poutcome_df.animal_type==\"Cat\"].groupby('monthyear').count()\n",
    "adoptionCat = pd.DataFrame(adoptionCat[\"animal_id\"])\n",
    "adoptionCat = adoptionCat.rename(columns = {\"monthyear\":\"Time\",\"animal_id\":\"Count\"})\n",
    "\n",
    "adoptionOther = poutcome_df[poutcome_df.outcome_type==\"Adoption\"][poutcome_df.animal_type==\"Other\"].groupby('monthyear').count()\n",
    "adoptionOther = pd.DataFrame(adoptionOther[\"animal_id\"])\n",
    "adoptionOther = adoptionOther.rename(columns = {\"monthyear\":\"Time\",\"animal_id\":\"Count\"})\n",
    "\n",
    "#count euthanasias by time (for total, dogs, cats, and other)\n",
    "euthanasia=poutcome_df[poutcome_df.outcome_type==\"Euthanasia\"].groupby('monthyear').count()\n",
    "\n",
    "euthanasiaDog = poutcome_df[poutcome_df.outcome_type==\"Euthanasia\"][poutcome_df.animal_type=='Dog'].groupby('monthyear').count()\n",
    "euthanasiaDog = pd.DataFrame(euthanasiaDog[\"animal_id\"])\n",
    "euthanasiaDog = euthanasiaDog.rename(columns = {\"monthyear\":\"Time\",\"animal_id\":\"Count\"})\n",
    "\n",
    "euthanasiaCat=poutcome_df[poutcome_df.outcome_type==\"Euthanasia\"][poutcome_df.animal_type=='Cat'].groupby('monthyear').count()\n",
    "euthanasiaCat = pd.DataFrame(euthanasiaCat[\"animal_id\"])\n",
    "euthanasiaCat = euthanasiaCat.rename(columns = {\"monthyear\":\"Time\",\"animal_id\":\"Count\"})\n",
    "\n",
    "euthanasiaOther = poutcome_df[poutcome_df.outcome_type==\"Euthanasia\"][poutcome_df.animal_type=='Other'].groupby('monthyear').count()\n",
    "euthanasiaOther = pd.DataFrame(euthanasiaOther[\"animal_id\"])\n",
    "euthanasiaOther = euthanasiaOther.rename(columns = {\"monthyear\":\"Time\",\"animal_id\":\"Count\"})"
   ]
  },
  {
   "cell_type": "code",
   "execution_count": 6,
   "metadata": {},
   "outputs": [],
   "source": [
    "#save interesting data as csvs for graphs\n",
    "\n",
    "#Are particular breeds being adopted?\n",
    "breedin_count.to_csv(\"output/breedin_count.csv\", index = None, header=True)\n",
    "adoptout_count.to_csv(\"output/breedout_count.csv\", index = None, header=True)\n",
    "\n",
    "#What are the trends in adoption and euthanasia (dogs and cats only)?\n",
    "euthanasiaDog.to_csv(\"output/euthanasiaDog.csv\", header=True)\n",
    "euthanasiaCat.to_csv(\"output/euthanasiaCat.csv\", header=True)\n",
    "\n",
    "adoptionDog.to_csv(\"output/adoptionDog.csv\", header=True)\n",
    "adoptionCat.to_csv(\"output/adoptionCat.csv\", header=True)\n",
    "\n",
    "#Does Austin prioritize keeping the animal alive?\n",
    "outcome_count.to_csv(\"output/outcome_count.csv\", index = None, header=True)"
   ]
  },
  {
   "cell_type": "code",
   "execution_count": null,
   "metadata": {},
   "outputs": [],
   "source": []
  }
 ],
 "metadata": {
  "kernelspec": {
   "display_name": "Conda [PythonData]",
   "language": "python",
   "name": "pythondata"
  },
  "language_info": {
   "codemirror_mode": {
    "name": "ipython",
    "version": 3
   },
   "file_extension": ".py",
   "mimetype": "text/x-python",
   "name": "python",
   "nbconvert_exporter": "python",
   "pygments_lexer": "ipython3",
   "version": "3.7.3"
  }
 },
 "nbformat": 4,
 "nbformat_minor": 2
}
